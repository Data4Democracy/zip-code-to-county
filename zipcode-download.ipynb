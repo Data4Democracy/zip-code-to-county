{
 "cells": [
  {
   "cell_type": "code",
   "execution_count": 16,
   "metadata": {
    "collapsed": true
   },
   "outputs": [],
   "source": [
    "import requests\n",
    "import os\n",
    "import time\n",
    "import pandas as pd\n",
    "import glob\n",
    "import datetime as dt"
   ]
  },
  {
   "cell_type": "code",
   "execution_count": 17,
   "metadata": {
    "collapsed": false
   },
   "outputs": [
    {
     "name": "stdout",
     "output_type": "stream",
     "text": [
      "Directory  C:\\Users\\ncolley\\1_Projects\\county-zip\\download  already existed\n",
      "Directory  C:\\Users\\ncolley\\1_Projects\\county-zip\\download\\csv  already existed\n",
      "Directory  C:\\Users\\ncolley\\1_Projects\\county-zip\\download\\excel  already existed\n"
     ]
    }
   ],
   "source": [
    "def verify_dirs_exist():\n",
    "    #This notebook requires a few directories\n",
    "    dirs = [\"download\", \"download\\csv\", \"download\\excel\"]\n",
    "    for d in dirs:\n",
    "        curpath = os.path.abspath(os.curdir) # get current working directory\n",
    "        full_path = os.path.join(curpath, d) # join cwd with proposed d \n",
    "        create_dir_if_not_exists(full_path)\n",
    "        \n",
    "def create_dir_if_not_exists(full_path):\n",
    "    # expects a full path to the directory to test against or to create.\n",
    "    if not os.path.exists(full_path):\n",
    "        os.makedirs(full_path)\n",
    "        print(\"Created directory \", full_path)\n",
    "    else:\n",
    "        print(\"Directory \", full_path, \" already existed\")\n",
    "\n",
    "verify_dirs_exist()"
   ]
  },
  {
   "cell_type": "code",
   "execution_count": 18,
   "metadata": {
    "collapsed": true
   },
   "outputs": [],
   "source": [
    "def generate_file_name_from_url(url):\n",
    "    month_year = url.split(\"\\\\\")[-1].split(\"_\")[-1].split(\".\")[0] \n",
    "    month = month_year[:2]\n",
    "    year = month_year[2:]\n",
    "    new_file_name = \"ZIP-COUNTY-FIPS_\"+year + \"-\" + month\n",
    "    return new_file_name"
   ]
  },
  {
   "cell_type": "code",
   "execution_count": 51,
   "metadata": {
    "collapsed": true
   },
   "outputs": [],
   "source": [
    "def get_file_path(url, csv_file=False):\n",
    "    \"Takes in the full url and returns the full file path\"\n",
    "    \"File names are ZIP_COUNTY_032010.xlsx\"\n",
    "    curpath = os.path.abspath(os.curdir) #get current working directory\n",
    "    full_path = ''\n",
    "    if csv_file:\n",
    "        #If we are passing in a csv, change xlsx to .csv\n",
    "        csv_file_name = url.split(\"\\\\\")[-1][:-5] + \".csv\"\n",
    "        full_path = os.path.join(curpath, \"download\\csv\", csv_file_name)\n",
    "    else:\n",
    "        url_name = url.split('/')[-1] # gets file name\n",
    "        #switching file names to be YYYY-MM for better file management\n",
    "        url_file_name = generate_file_name_from_url(url) + \".xlsx\"\n",
    "        full_path = os.path.join(curpath, \"download\\excel\", url_file_name)\n",
    "    return full_path"
   ]
  },
  {
   "cell_type": "code",
   "execution_count": 52,
   "metadata": {
    "collapsed": true
   },
   "outputs": [],
   "source": [
    "def download_file(url):\n",
    "    #With a full url, downloads the full file in chunks. \n",
    "    #Able to handle large files.\n",
    "    full_file_path = get_file_path(url)\n",
    "    r = requests.get(url)\n",
    "    with open(full_file_path, 'wb') as f:\n",
    "        for chunk in r.iter_content(chunk_size=1024): \n",
    "            if chunk: # filter out keep-alive new chunks\n",
    "                f.write(chunk)\n",
    "    return full_file_path"
   ]
  },
  {
   "cell_type": "markdown",
   "metadata": {},
   "source": [
    "### Census State & County FIPS Data\n",
    "HUD uses ZIP & FIPS data. We need to grab the FIPS to county name data to be able to merge and create the cross lookup"
   ]
  },
  {
   "cell_type": "code",
   "execution_count": 21,
   "metadata": {
    "collapsed": false
   },
   "outputs": [],
   "source": [
    "census_fips_url = \"https://www2.census.gov/geo/docs/reference/codes/files/national_county.txt\"\n",
    "#the FIPS data does not come with column names\n",
    "census_col_names = [\"STATE\",\"STATEFP\",\"COUNTYFP\",\"COUNTYNAME\",\"CLASSFP\"]"
   ]
  },
  {
   "cell_type": "code",
   "execution_count": 22,
   "metadata": {
    "collapsed": false
   },
   "outputs": [],
   "source": [
    "# Open url, read in the data with the column names, and convert specific columns to str. \n",
    "# When Pandas reads these columns, it automatilcally intrepets them as INTS \n",
    "fips_df = pd.read_table(\n",
    "    census_fips_url, \n",
    "    sep=\",\", \n",
    "    names=census_col_names, \n",
    "    converters={'STATEFP': str,'COUNTYFP': str,'CLASSFP': str})"
   ]
  },
  {
   "cell_type": "code",
   "execution_count": 23,
   "metadata": {
    "collapsed": true
   },
   "outputs": [],
   "source": [
    "# Combine State & County FP to generate the full FIPS code for easier lookup\n",
    "fips_df[\"STCOUNTYFP\"] = fips_df[\"STATEFP\"] + fips_df[\"COUNTYFP\"]\n",
    "#Dropping STATFP & COUNTYFP as we no longer need them\n",
    "fips_df = fips_df[[\"STCOUNTYFP\", \"STATE\" ,\"COUNTYNAME\", \"CLASSFP\"]]"
   ]
  },
  {
   "cell_type": "code",
   "execution_count": 24,
   "metadata": {
    "collapsed": true
   },
   "outputs": [],
   "source": [
    "# Get current year to handle future runs of this file\n",
    "now = dt.datetime.now()\n",
    "cur_year = now.year"
   ]
  },
  {
   "cell_type": "markdown",
   "metadata": {},
   "source": [
    "### Support Functions"
   ]
  },
  {
   "cell_type": "code",
   "execution_count": 25,
   "metadata": {
    "collapsed": true
   },
   "outputs": [],
   "source": [
    "def get_files_url(month, year):\n",
    "    monthyear = month + str(year) \n",
    "    return \"https://www.huduser.gov/portal/datasets/usps/ZIP_COUNTY_{}.xlsx\".format(monthyear)"
   ]
  },
  {
   "cell_type": "code",
   "execution_count": 26,
   "metadata": {
    "collapsed": true
   },
   "outputs": [],
   "source": [
    "def process_excel_file(full_excel_path):\n",
    "    # takes in the excel file and returns the needed data in a dataframe\n",
    "    # grab download excel file and load as pandas DF\n",
    "    excel_df = pd.read_excel(full_excel_path, index_col=None, converters={'ZIP': str, 'COUNTY': str})\n",
    "    # rename County column for easier merging.\n",
    "    excel_df.rename(columns={\"COUNTY\":\"STCOUNTYFP\"}, inplace=True)\n",
    "    # keep the two columns we need \n",
    "    return excel_df[[\"ZIP\", \"STCOUNTYFP\"]]"
   ]
  },
  {
   "cell_type": "code",
   "execution_count": 27,
   "metadata": {
    "collapsed": true
   },
   "outputs": [],
   "source": [
    "def merge_dfs(excel_df):\n",
    "    merged_df = fips.merge(excel_df)\n",
    "    return merged_df[[\"ZIP\", \"COUNTYNAME\", \"STATE\", \"STCOUNTYFP\", \"CLASSFP\"]]"
   ]
  },
  {
   "cell_type": "markdown",
   "metadata": {},
   "source": [
    "### Main Loop"
   ]
  },
  {
   "cell_type": "code",
   "execution_count": 54,
   "metadata": {
    "collapsed": false
   },
   "outputs": [
    {
     "name": "stdout",
     "output_type": "stream",
     "text": [
      "C:\\Users\\ncolley\\1_Projects\\county-zip\\download\\csv\\ZIP-COUNTY-FIPS_2010-03.csv\n",
      "Completed  C:\\Users\\ncolley\\1_Projects\\county-zip\\download\\csv\\ZIP-COUNTY-FIPS_2010-03.csv\n",
      "C:\\Users\\ncolley\\1_Projects\\county-zip\\download\\csv\\ZIP-COUNTY-FIPS_2010-06.csv\n",
      "Completed  C:\\Users\\ncolley\\1_Projects\\county-zip\\download\\csv\\ZIP-COUNTY-FIPS_2010-06.csv\n",
      "C:\\Users\\ncolley\\1_Projects\\county-zip\\download\\csv\\ZIP-COUNTY-FIPS_2010-09.csv\n",
      "Completed  C:\\Users\\ncolley\\1_Projects\\county-zip\\download\\csv\\ZIP-COUNTY-FIPS_2010-09.csv\n",
      "C:\\Users\\ncolley\\1_Projects\\county-zip\\download\\csv\\ZIP-COUNTY-FIPS_2010-12.csv\n",
      "Completed  C:\\Users\\ncolley\\1_Projects\\county-zip\\download\\csv\\ZIP-COUNTY-FIPS_2010-12.csv\n",
      "C:\\Users\\ncolley\\1_Projects\\county-zip\\download\\csv\\ZIP-COUNTY-FIPS_2011-03.csv\n",
      "Completed  C:\\Users\\ncolley\\1_Projects\\county-zip\\download\\csv\\ZIP-COUNTY-FIPS_2011-03.csv\n",
      "C:\\Users\\ncolley\\1_Projects\\county-zip\\download\\csv\\ZIP-COUNTY-FIPS_2011-06.csv\n",
      "Completed  C:\\Users\\ncolley\\1_Projects\\county-zip\\download\\csv\\ZIP-COUNTY-FIPS_2011-06.csv\n",
      "C:\\Users\\ncolley\\1_Projects\\county-zip\\download\\csv\\ZIP-COUNTY-FIPS_2011-09.csv\n",
      "Completed  C:\\Users\\ncolley\\1_Projects\\county-zip\\download\\csv\\ZIP-COUNTY-FIPS_2011-09.csv\n",
      "C:\\Users\\ncolley\\1_Projects\\county-zip\\download\\csv\\ZIP-COUNTY-FIPS_2011-12.csv\n",
      "Completed  C:\\Users\\ncolley\\1_Projects\\county-zip\\download\\csv\\ZIP-COUNTY-FIPS_2011-12.csv\n",
      "C:\\Users\\ncolley\\1_Projects\\county-zip\\download\\csv\\ZIP-COUNTY-FIPS_2012-03.csv\n",
      "Completed  C:\\Users\\ncolley\\1_Projects\\county-zip\\download\\csv\\ZIP-COUNTY-FIPS_2012-03.csv\n",
      "C:\\Users\\ncolley\\1_Projects\\county-zip\\download\\csv\\ZIP-COUNTY-FIPS_2012-06.csv\n",
      "Completed  C:\\Users\\ncolley\\1_Projects\\county-zip\\download\\csv\\ZIP-COUNTY-FIPS_2012-06.csv\n",
      "C:\\Users\\ncolley\\1_Projects\\county-zip\\download\\csv\\ZIP-COUNTY-FIPS_2012-09.csv\n",
      "Completed  C:\\Users\\ncolley\\1_Projects\\county-zip\\download\\csv\\ZIP-COUNTY-FIPS_2012-09.csv\n",
      "C:\\Users\\ncolley\\1_Projects\\county-zip\\download\\csv\\ZIP-COUNTY-FIPS_2012-12.csv\n",
      "Completed  C:\\Users\\ncolley\\1_Projects\\county-zip\\download\\csv\\ZIP-COUNTY-FIPS_2012-12.csv\n",
      "C:\\Users\\ncolley\\1_Projects\\county-zip\\download\\csv\\ZIP-COUNTY-FIPS_2013-03.csv\n",
      "Completed  C:\\Users\\ncolley\\1_Projects\\county-zip\\download\\csv\\ZIP-COUNTY-FIPS_2013-03.csv\n",
      "C:\\Users\\ncolley\\1_Projects\\county-zip\\download\\csv\\ZIP-COUNTY-FIPS_2013-06.csv\n",
      "Completed  C:\\Users\\ncolley\\1_Projects\\county-zip\\download\\csv\\ZIP-COUNTY-FIPS_2013-06.csv\n",
      "C:\\Users\\ncolley\\1_Projects\\county-zip\\download\\csv\\ZIP-COUNTY-FIPS_2013-09.csv\n",
      "Completed  C:\\Users\\ncolley\\1_Projects\\county-zip\\download\\csv\\ZIP-COUNTY-FIPS_2013-09.csv\n",
      "C:\\Users\\ncolley\\1_Projects\\county-zip\\download\\csv\\ZIP-COUNTY-FIPS_2013-12.csv\n",
      "Completed  C:\\Users\\ncolley\\1_Projects\\county-zip\\download\\csv\\ZIP-COUNTY-FIPS_2013-12.csv\n",
      "C:\\Users\\ncolley\\1_Projects\\county-zip\\download\\csv\\ZIP-COUNTY-FIPS_2014-03.csv\n",
      "Completed  C:\\Users\\ncolley\\1_Projects\\county-zip\\download\\csv\\ZIP-COUNTY-FIPS_2014-03.csv\n",
      "C:\\Users\\ncolley\\1_Projects\\county-zip\\download\\csv\\ZIP-COUNTY-FIPS_2014-06.csv\n",
      "Completed  C:\\Users\\ncolley\\1_Projects\\county-zip\\download\\csv\\ZIP-COUNTY-FIPS_2014-06.csv\n",
      "C:\\Users\\ncolley\\1_Projects\\county-zip\\download\\csv\\ZIP-COUNTY-FIPS_2014-09.csv\n",
      "Completed  C:\\Users\\ncolley\\1_Projects\\county-zip\\download\\csv\\ZIP-COUNTY-FIPS_2014-09.csv\n",
      "C:\\Users\\ncolley\\1_Projects\\county-zip\\download\\csv\\ZIP-COUNTY-FIPS_2014-12.csv\n",
      "Completed  C:\\Users\\ncolley\\1_Projects\\county-zip\\download\\csv\\ZIP-COUNTY-FIPS_2014-12.csv\n",
      "C:\\Users\\ncolley\\1_Projects\\county-zip\\download\\csv\\ZIP-COUNTY-FIPS_2015-03.csv\n",
      "Completed  C:\\Users\\ncolley\\1_Projects\\county-zip\\download\\csv\\ZIP-COUNTY-FIPS_2015-03.csv\n",
      "C:\\Users\\ncolley\\1_Projects\\county-zip\\download\\csv\\ZIP-COUNTY-FIPS_2015-06.csv\n",
      "Completed  C:\\Users\\ncolley\\1_Projects\\county-zip\\download\\csv\\ZIP-COUNTY-FIPS_2015-06.csv\n",
      "C:\\Users\\ncolley\\1_Projects\\county-zip\\download\\csv\\ZIP-COUNTY-FIPS_2015-09.csv\n",
      "Completed  C:\\Users\\ncolley\\1_Projects\\county-zip\\download\\csv\\ZIP-COUNTY-FIPS_2015-09.csv\n",
      "C:\\Users\\ncolley\\1_Projects\\county-zip\\download\\csv\\ZIP-COUNTY-FIPS_2015-12.csv\n",
      "Completed  C:\\Users\\ncolley\\1_Projects\\county-zip\\download\\csv\\ZIP-COUNTY-FIPS_2015-12.csv\n",
      "C:\\Users\\ncolley\\1_Projects\\county-zip\\download\\csv\\ZIP-COUNTY-FIPS_2016-03.csv\n",
      "Completed  C:\\Users\\ncolley\\1_Projects\\county-zip\\download\\csv\\ZIP-COUNTY-FIPS_2016-03.csv\n",
      "C:\\Users\\ncolley\\1_Projects\\county-zip\\download\\csv\\ZIP-COUNTY-FIPS_2016-06.csv\n",
      "Completed  C:\\Users\\ncolley\\1_Projects\\county-zip\\download\\csv\\ZIP-COUNTY-FIPS_2016-06.csv\n",
      "C:\\Users\\ncolley\\1_Projects\\county-zip\\download\\csv\\ZIP-COUNTY-FIPS_2016-09.csv\n",
      "Completed  C:\\Users\\ncolley\\1_Projects\\county-zip\\download\\csv\\ZIP-COUNTY-FIPS_2016-09.csv\n",
      "C:\\Users\\ncolley\\1_Projects\\county-zip\\download\\csv\\ZIP-COUNTY-FIPS_2016-12.csv\n",
      "Completed  C:\\Users\\ncolley\\1_Projects\\county-zip\\download\\csv\\ZIP-COUNTY-FIPS_2016-12.csv\n",
      "C:\\Users\\ncolley\\1_Projects\\county-zip\\download\\csv\\ZIP-COUNTY-FIPS_2017-03.csv\n",
      "Completed  C:\\Users\\ncolley\\1_Projects\\county-zip\\download\\csv\\ZIP-COUNTY-FIPS_2017-03.csv\n",
      "C:\\Users\\ncolley\\1_Projects\\county-zip\\download\\csv\\ZIP-COUNTY-FIPS_2017-06.csv\n",
      "Completed  C:\\Users\\ncolley\\1_Projects\\county-zip\\download\\csv\\ZIP-COUNTY-FIPS_2017-06.csv\n"
     ]
    },
    {
     "ename": "XLRDError",
     "evalue": "Unsupported format, or corrupt file: Expected BOF record; found b'<!DOCTYP'",
     "output_type": "error",
     "traceback": [
      "\u001b[0;31m---------------------------------------------------------------------------\u001b[0m",
      "\u001b[0;31mXLRDError\u001b[0m                                 Traceback (most recent call last)",
      "\u001b[0;32m<ipython-input-54-605f97a408e3>\u001b[0m in \u001b[0;36m<module>\u001b[0;34m()\u001b[0m\n\u001b[1;32m      8\u001b[0m         \u001b[0mfull_file_path\u001b[0m \u001b[1;33m=\u001b[0m \u001b[0mdownload_file\u001b[0m\u001b[1;33m(\u001b[0m\u001b[0murl\u001b[0m\u001b[1;33m)\u001b[0m\u001b[1;33m\u001b[0m\u001b[0m\n\u001b[1;32m      9\u001b[0m         \u001b[1;31m#open and get the excel dataframe\u001b[0m\u001b[1;33m\u001b[0m\u001b[1;33m\u001b[0m\u001b[0m\n\u001b[0;32m---> 10\u001b[0;31m         \u001b[0mexcel_df\u001b[0m \u001b[1;33m=\u001b[0m \u001b[0mprocess_excel_file\u001b[0m\u001b[1;33m(\u001b[0m\u001b[0mfull_file_path\u001b[0m\u001b[1;33m)\u001b[0m\u001b[1;33m\u001b[0m\u001b[0m\n\u001b[0m\u001b[1;32m     11\u001b[0m         \u001b[1;31m#merge the excel file with the fips data\u001b[0m\u001b[1;33m\u001b[0m\u001b[1;33m\u001b[0m\u001b[0m\n\u001b[1;32m     12\u001b[0m         \u001b[0mmerged_df\u001b[0m \u001b[1;33m=\u001b[0m \u001b[0mfips_df\u001b[0m\u001b[1;33m.\u001b[0m\u001b[0mmerge\u001b[0m\u001b[1;33m(\u001b[0m\u001b[0mexcel_df\u001b[0m\u001b[1;33m)\u001b[0m\u001b[1;33m\u001b[0m\u001b[0m\n",
      "\u001b[0;32m<ipython-input-26-f998e52421fa>\u001b[0m in \u001b[0;36mprocess_excel_file\u001b[0;34m(full_excel_path)\u001b[0m\n\u001b[1;32m      2\u001b[0m     \u001b[1;31m# takes in the excel file and returns the needed data in a dataframe\u001b[0m\u001b[1;33m\u001b[0m\u001b[1;33m\u001b[0m\u001b[0m\n\u001b[1;32m      3\u001b[0m     \u001b[1;31m# grab download excel file and load as pandas DF\u001b[0m\u001b[1;33m\u001b[0m\u001b[1;33m\u001b[0m\u001b[0m\n\u001b[0;32m----> 4\u001b[0;31m     \u001b[0mexcel_df\u001b[0m \u001b[1;33m=\u001b[0m \u001b[0mpd\u001b[0m\u001b[1;33m.\u001b[0m\u001b[0mread_excel\u001b[0m\u001b[1;33m(\u001b[0m\u001b[0mfull_excel_path\u001b[0m\u001b[1;33m,\u001b[0m \u001b[0mindex_col\u001b[0m\u001b[1;33m=\u001b[0m\u001b[1;32mNone\u001b[0m\u001b[1;33m,\u001b[0m \u001b[0mconverters\u001b[0m\u001b[1;33m=\u001b[0m\u001b[1;33m{\u001b[0m\u001b[1;34m'ZIP'\u001b[0m\u001b[1;33m:\u001b[0m \u001b[0mstr\u001b[0m\u001b[1;33m,\u001b[0m \u001b[1;34m'COUNTY'\u001b[0m\u001b[1;33m:\u001b[0m \u001b[0mstr\u001b[0m\u001b[1;33m}\u001b[0m\u001b[1;33m)\u001b[0m\u001b[1;33m\u001b[0m\u001b[0m\n\u001b[0m\u001b[1;32m      5\u001b[0m     \u001b[1;31m# rename County column for easier merging.\u001b[0m\u001b[1;33m\u001b[0m\u001b[1;33m\u001b[0m\u001b[0m\n\u001b[1;32m      6\u001b[0m     \u001b[0mexcel_df\u001b[0m\u001b[1;33m.\u001b[0m\u001b[0mrename\u001b[0m\u001b[1;33m(\u001b[0m\u001b[0mcolumns\u001b[0m\u001b[1;33m=\u001b[0m\u001b[1;33m{\u001b[0m\u001b[1;34m\"COUNTY\"\u001b[0m\u001b[1;33m:\u001b[0m\u001b[1;34m\"STCOUNTYFP\"\u001b[0m\u001b[1;33m}\u001b[0m\u001b[1;33m,\u001b[0m \u001b[0minplace\u001b[0m\u001b[1;33m=\u001b[0m\u001b[1;32mTrue\u001b[0m\u001b[1;33m)\u001b[0m\u001b[1;33m\u001b[0m\u001b[0m\n",
      "\u001b[0;32mc:\\python34\\lib\\site-packages\\pandas\\io\\excel.py\u001b[0m in \u001b[0;36mread_excel\u001b[0;34m(io, sheetname, header, skiprows, skip_footer, index_col, names, parse_cols, parse_dates, date_parser, na_values, thousands, convert_float, has_index_names, converters, true_values, false_values, engine, squeeze, **kwds)\u001b[0m\n\u001b[1;32m    189\u001b[0m \u001b[1;33m\u001b[0m\u001b[0m\n\u001b[1;32m    190\u001b[0m     \u001b[1;32mif\u001b[0m \u001b[1;32mnot\u001b[0m \u001b[0misinstance\u001b[0m\u001b[1;33m(\u001b[0m\u001b[0mio\u001b[0m\u001b[1;33m,\u001b[0m \u001b[0mExcelFile\u001b[0m\u001b[1;33m)\u001b[0m\u001b[1;33m:\u001b[0m\u001b[1;33m\u001b[0m\u001b[0m\n\u001b[0;32m--> 191\u001b[0;31m         \u001b[0mio\u001b[0m \u001b[1;33m=\u001b[0m \u001b[0mExcelFile\u001b[0m\u001b[1;33m(\u001b[0m\u001b[0mio\u001b[0m\u001b[1;33m,\u001b[0m \u001b[0mengine\u001b[0m\u001b[1;33m=\u001b[0m\u001b[0mengine\u001b[0m\u001b[1;33m)\u001b[0m\u001b[1;33m\u001b[0m\u001b[0m\n\u001b[0m\u001b[1;32m    192\u001b[0m \u001b[1;33m\u001b[0m\u001b[0m\n\u001b[1;32m    193\u001b[0m     return io._parse_excel(\n",
      "\u001b[0;32mc:\\python34\\lib\\site-packages\\pandas\\io\\excel.py\u001b[0m in \u001b[0;36m__init__\u001b[0;34m(self, io, **kwds)\u001b[0m\n\u001b[1;32m    247\u001b[0m             \u001b[0mself\u001b[0m\u001b[1;33m.\u001b[0m\u001b[0mbook\u001b[0m \u001b[1;33m=\u001b[0m \u001b[0mxlrd\u001b[0m\u001b[1;33m.\u001b[0m\u001b[0mopen_workbook\u001b[0m\u001b[1;33m(\u001b[0m\u001b[0mfile_contents\u001b[0m\u001b[1;33m=\u001b[0m\u001b[0mdata\u001b[0m\u001b[1;33m)\u001b[0m\u001b[1;33m\u001b[0m\u001b[0m\n\u001b[1;32m    248\u001b[0m         \u001b[1;32melif\u001b[0m \u001b[0misinstance\u001b[0m\u001b[1;33m(\u001b[0m\u001b[0mio\u001b[0m\u001b[1;33m,\u001b[0m \u001b[0mcompat\u001b[0m\u001b[1;33m.\u001b[0m\u001b[0mstring_types\u001b[0m\u001b[1;33m)\u001b[0m\u001b[1;33m:\u001b[0m\u001b[1;33m\u001b[0m\u001b[0m\n\u001b[0;32m--> 249\u001b[0;31m             \u001b[0mself\u001b[0m\u001b[1;33m.\u001b[0m\u001b[0mbook\u001b[0m \u001b[1;33m=\u001b[0m \u001b[0mxlrd\u001b[0m\u001b[1;33m.\u001b[0m\u001b[0mopen_workbook\u001b[0m\u001b[1;33m(\u001b[0m\u001b[0mio\u001b[0m\u001b[1;33m)\u001b[0m\u001b[1;33m\u001b[0m\u001b[0m\n\u001b[0m\u001b[1;32m    250\u001b[0m         \u001b[1;32melse\u001b[0m\u001b[1;33m:\u001b[0m\u001b[1;33m\u001b[0m\u001b[0m\n\u001b[1;32m    251\u001b[0m             raise ValueError('Must explicitly set engine if not passing in'\n",
      "\u001b[0;32mc:\\python34\\lib\\site-packages\\xlrd\\__init__.py\u001b[0m in \u001b[0;36mopen_workbook\u001b[0;34m(filename, logfile, verbosity, use_mmap, file_contents, encoding_override, formatting_info, on_demand, ragged_rows)\u001b[0m\n\u001b[1;32m    439\u001b[0m         \u001b[0mformatting_info\u001b[0m\u001b[1;33m=\u001b[0m\u001b[0mformatting_info\u001b[0m\u001b[1;33m,\u001b[0m\u001b[1;33m\u001b[0m\u001b[0m\n\u001b[1;32m    440\u001b[0m         \u001b[0mon_demand\u001b[0m\u001b[1;33m=\u001b[0m\u001b[0mon_demand\u001b[0m\u001b[1;33m,\u001b[0m\u001b[1;33m\u001b[0m\u001b[0m\n\u001b[0;32m--> 441\u001b[0;31m         \u001b[0mragged_rows\u001b[0m\u001b[1;33m=\u001b[0m\u001b[0mragged_rows\u001b[0m\u001b[1;33m,\u001b[0m\u001b[1;33m\u001b[0m\u001b[0m\n\u001b[0m\u001b[1;32m    442\u001b[0m         )\n\u001b[1;32m    443\u001b[0m     \u001b[1;32mreturn\u001b[0m \u001b[0mbk\u001b[0m\u001b[1;33m\u001b[0m\u001b[0m\n",
      "\u001b[0;32mc:\\python34\\lib\\site-packages\\xlrd\\book.py\u001b[0m in \u001b[0;36mopen_workbook_xls\u001b[0;34m(filename, logfile, verbosity, use_mmap, file_contents, encoding_override, formatting_info, on_demand, ragged_rows)\u001b[0m\n\u001b[1;32m     89\u001b[0m         \u001b[0mt1\u001b[0m \u001b[1;33m=\u001b[0m \u001b[0mtime\u001b[0m\u001b[1;33m.\u001b[0m\u001b[0mclock\u001b[0m\u001b[1;33m(\u001b[0m\u001b[1;33m)\u001b[0m\u001b[1;33m\u001b[0m\u001b[0m\n\u001b[1;32m     90\u001b[0m         \u001b[0mbk\u001b[0m\u001b[1;33m.\u001b[0m\u001b[0mload_time_stage_1\u001b[0m \u001b[1;33m=\u001b[0m \u001b[0mt1\u001b[0m \u001b[1;33m-\u001b[0m \u001b[0mt0\u001b[0m\u001b[1;33m\u001b[0m\u001b[0m\n\u001b[0;32m---> 91\u001b[0;31m         \u001b[0mbiff_version\u001b[0m \u001b[1;33m=\u001b[0m \u001b[0mbk\u001b[0m\u001b[1;33m.\u001b[0m\u001b[0mgetbof\u001b[0m\u001b[1;33m(\u001b[0m\u001b[0mXL_WORKBOOK_GLOBALS\u001b[0m\u001b[1;33m)\u001b[0m\u001b[1;33m\u001b[0m\u001b[0m\n\u001b[0m\u001b[1;32m     92\u001b[0m         \u001b[1;32mif\u001b[0m \u001b[1;32mnot\u001b[0m \u001b[0mbiff_version\u001b[0m\u001b[1;33m:\u001b[0m\u001b[1;33m\u001b[0m\u001b[0m\n\u001b[1;32m     93\u001b[0m             \u001b[1;32mraise\u001b[0m \u001b[0mXLRDError\u001b[0m\u001b[1;33m(\u001b[0m\u001b[1;34m\"Can't determine file's BIFF version\"\u001b[0m\u001b[1;33m)\u001b[0m\u001b[1;33m\u001b[0m\u001b[0m\n",
      "\u001b[0;32mc:\\python34\\lib\\site-packages\\xlrd\\book.py\u001b[0m in \u001b[0;36mgetbof\u001b[0;34m(self, rqd_stream)\u001b[0m\n\u001b[1;32m   1228\u001b[0m             \u001b[0mbof_error\u001b[0m\u001b[1;33m(\u001b[0m\u001b[1;34m'Expected BOF record; met end of file'\u001b[0m\u001b[1;33m)\u001b[0m\u001b[1;33m\u001b[0m\u001b[0m\n\u001b[1;32m   1229\u001b[0m         \u001b[1;32mif\u001b[0m \u001b[0mopcode\u001b[0m \u001b[1;32mnot\u001b[0m \u001b[1;32min\u001b[0m \u001b[0mbofcodes\u001b[0m\u001b[1;33m:\u001b[0m\u001b[1;33m\u001b[0m\u001b[0m\n\u001b[0;32m-> 1230\u001b[0;31m             \u001b[0mbof_error\u001b[0m\u001b[1;33m(\u001b[0m\u001b[1;34m'Expected BOF record; found %r'\u001b[0m \u001b[1;33m%\u001b[0m \u001b[0mself\u001b[0m\u001b[1;33m.\u001b[0m\u001b[0mmem\u001b[0m\u001b[1;33m[\u001b[0m\u001b[0msavpos\u001b[0m\u001b[1;33m:\u001b[0m\u001b[0msavpos\u001b[0m\u001b[1;33m+\u001b[0m\u001b[1;36m8\u001b[0m\u001b[1;33m]\u001b[0m\u001b[1;33m)\u001b[0m\u001b[1;33m\u001b[0m\u001b[0m\n\u001b[0m\u001b[1;32m   1231\u001b[0m         \u001b[0mlength\u001b[0m \u001b[1;33m=\u001b[0m \u001b[0mself\u001b[0m\u001b[1;33m.\u001b[0m\u001b[0mget2bytes\u001b[0m\u001b[1;33m(\u001b[0m\u001b[1;33m)\u001b[0m\u001b[1;33m\u001b[0m\u001b[0m\n\u001b[1;32m   1232\u001b[0m         \u001b[1;32mif\u001b[0m \u001b[0mlength\u001b[0m \u001b[1;33m==\u001b[0m \u001b[0mMY_EOF\u001b[0m\u001b[1;33m:\u001b[0m\u001b[1;33m\u001b[0m\u001b[0m\n",
      "\u001b[0;32mc:\\python34\\lib\\site-packages\\xlrd\\book.py\u001b[0m in \u001b[0;36mbof_error\u001b[0;34m(msg)\u001b[0m\n\u001b[1;32m   1222\u001b[0m         \u001b[1;32mif\u001b[0m \u001b[0mDEBUG\u001b[0m\u001b[1;33m:\u001b[0m \u001b[0mprint\u001b[0m\u001b[1;33m(\u001b[0m\u001b[1;34m\"reqd: 0x%04x\"\u001b[0m \u001b[1;33m%\u001b[0m \u001b[0mrqd_stream\u001b[0m\u001b[1;33m,\u001b[0m \u001b[0mfile\u001b[0m\u001b[1;33m=\u001b[0m\u001b[0mself\u001b[0m\u001b[1;33m.\u001b[0m\u001b[0mlogfile\u001b[0m\u001b[1;33m)\u001b[0m\u001b[1;33m\u001b[0m\u001b[0m\n\u001b[1;32m   1223\u001b[0m         \u001b[1;32mdef\u001b[0m \u001b[0mbof_error\u001b[0m\u001b[1;33m(\u001b[0m\u001b[0mmsg\u001b[0m\u001b[1;33m)\u001b[0m\u001b[1;33m:\u001b[0m\u001b[1;33m\u001b[0m\u001b[0m\n\u001b[0;32m-> 1224\u001b[0;31m             \u001b[1;32mraise\u001b[0m \u001b[0mXLRDError\u001b[0m\u001b[1;33m(\u001b[0m\u001b[1;34m'Unsupported format, or corrupt file: '\u001b[0m \u001b[1;33m+\u001b[0m \u001b[0mmsg\u001b[0m\u001b[1;33m)\u001b[0m\u001b[1;33m\u001b[0m\u001b[0m\n\u001b[0m\u001b[1;32m   1225\u001b[0m         \u001b[0msavpos\u001b[0m \u001b[1;33m=\u001b[0m \u001b[0mself\u001b[0m\u001b[1;33m.\u001b[0m\u001b[0m_position\u001b[0m\u001b[1;33m\u001b[0m\u001b[0m\n\u001b[1;32m   1226\u001b[0m         \u001b[0mopcode\u001b[0m \u001b[1;33m=\u001b[0m \u001b[0mself\u001b[0m\u001b[1;33m.\u001b[0m\u001b[0mget2bytes\u001b[0m\u001b[1;33m(\u001b[0m\u001b[1;33m)\u001b[0m\u001b[1;33m\u001b[0m\u001b[0m\n",
      "\u001b[0;31mXLRDError\u001b[0m: Unsupported format, or corrupt file: Expected BOF record; found b'<!DOCTYP'"
     ]
    }
   ],
   "source": [
    "# from the beginning of hud year data to current year\n",
    "for year in range(2010, cur_year+1):\n",
    "    #hud files are based on quarters\n",
    "    for month in [\"03\", \"06\", \"09\", \"12\"]:\n",
    "        #generate the HUDs url\n",
    "        url = get_files_url(month, year)\n",
    "        #download the file\n",
    "        full_file_path = download_file(url)\n",
    "        #open and get the excel dataframe\n",
    "        excel_df = process_excel_file(full_file_path)\n",
    "        #merge the excel file with the fips data\n",
    "        merged_df = fips_df.merge(excel_df)\n",
    "        #reduce the dataframe down to specific columns \n",
    "        merged_df = merged_df[[\"ZIP\", \"COUNTYNAME\", \"STATE\", \"STCOUNTYFP\", \"CLASSFP\"]] \n",
    "        #generate a csv file path\n",
    "        csv_path = get_file_path(full_file_path, True)\n",
    "        print(csv_path)\n",
    "        try:\n",
    "            merged_df.to_csv(csv_path, encoding='utf-8', index=False)\n",
    "        except:\n",
    "            #once we get to a Q that hasn't happened yet, we'll get an XLDRerror\n",
    "            print(\"Operation has completed\")\n",
    "            break\n",
    "        \n",
    "        # prevent from overloading the HUD site and to be a nice visitor\n",
    "        time.sleep(1)\n",
    "        print(\"Completed \", csv_path)\n",
    "        "
   ]
  }
 ],
 "metadata": {
  "kernelspec": {
   "display_name": "Python 3",
   "language": "python",
   "name": "python3"
  },
  "language_info": {
   "codemirror_mode": {
    "name": "ipython",
    "version": 3
   },
   "file_extension": ".py",
   "mimetype": "text/x-python",
   "name": "python",
   "nbconvert_exporter": "python",
   "pygments_lexer": "ipython3",
   "version": "3.4.4"
  }
 },
 "nbformat": 4,
 "nbformat_minor": 2
}
